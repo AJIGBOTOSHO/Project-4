{
 "cells": [
  {
   "cell_type": "markdown",
   "id": "6c08c330",
   "metadata": {},
   "source": [
    "### COVID-19 Data Analysis: Exploring Trends, Vaccination Impact and Insights Through Visualizations. "
   ]
  },
  {
   "cell_type": "markdown",
   "id": "c23024ca",
   "metadata": {},
   "source": [
    "### 1. Data Preparation and Cleaning "
   ]
  },
  {
   "cell_type": "code",
   "execution_count": 1,
   "id": "09223253",
   "metadata": {},
   "outputs": [],
   "source": [
    "# import necessary libraries \n",
    "import numpy as np \n",
    "import pandas as pd \n",
    "import matplotlib.pyplot as plt \n",
    "import seaborn as sns "
   ]
  },
  {
   "cell_type": "code",
   "execution_count": 2,
   "id": "6bb7db67",
   "metadata": {},
   "outputs": [
    {
     "data": {
      "text/html": [
       "<div>\n",
       "<style scoped>\n",
       "    .dataframe tbody tr th:only-of-type {\n",
       "        vertical-align: middle;\n",
       "    }\n",
       "\n",
       "    .dataframe tbody tr th {\n",
       "        vertical-align: top;\n",
       "    }\n",
       "\n",
       "    .dataframe thead th {\n",
       "        text-align: right;\n",
       "    }\n",
       "</style>\n",
       "<table border=\"1\" class=\"dataframe\">\n",
       "  <thead>\n",
       "    <tr style=\"text-align: right;\">\n",
       "      <th></th>\n",
       "      <th>DATE</th>\n",
       "      <th>country</th>\n",
       "      <th>NEW Cases</th>\n",
       "      <th>NEW_DEATHS</th>\n",
       "      <th>vaccinated</th>\n",
       "    </tr>\n",
       "  </thead>\n",
       "  <tbody>\n",
       "    <tr>\n",
       "      <th>0</th>\n",
       "      <td>2024-11-01</td>\n",
       "      <td>Argentina</td>\n",
       "      <td>NaN</td>\n",
       "      <td>NaN</td>\n",
       "      <td>unknown</td>\n",
       "    </tr>\n",
       "    <tr>\n",
       "      <th>1</th>\n",
       "      <td>2024-11-01</td>\n",
       "      <td>Australia</td>\n",
       "      <td>0.0</td>\n",
       "      <td>0.0</td>\n",
       "      <td>327</td>\n",
       "    </tr>\n",
       "    <tr>\n",
       "      <th>2</th>\n",
       "      <td>2024-11-01</td>\n",
       "      <td>Australia</td>\n",
       "      <td>0.0</td>\n",
       "      <td>0.0</td>\n",
       "      <td>327</td>\n",
       "    </tr>\n",
       "    <tr>\n",
       "      <th>3</th>\n",
       "      <td>2024-11-01</td>\n",
       "      <td>Brazil</td>\n",
       "      <td>971.0</td>\n",
       "      <td>48.0</td>\n",
       "      <td>430</td>\n",
       "    </tr>\n",
       "    <tr>\n",
       "      <th>4</th>\n",
       "      <td>2024-11-01</td>\n",
       "      <td>Canada</td>\n",
       "      <td>176.0</td>\n",
       "      <td>8.0</td>\n",
       "      <td>unknown</td>\n",
       "    </tr>\n",
       "  </tbody>\n",
       "</table>\n",
       "</div>"
      ],
      "text/plain": [
       "        DATE    country    NEW Cases  NEW_DEATHS vaccinated \n",
       "0  2024-11-01  Argentina         NaN         NaN     unknown\n",
       "1  2024-11-01  Australia         0.0         0.0         327\n",
       "2  2024-11-01  Australia         0.0         0.0         327\n",
       "3  2024-11-01     Brazil       971.0        48.0         430\n",
       "4  2024-11-01     Canada       176.0         8.0     unknown"
      ]
     },
     "execution_count": 2,
     "metadata": {},
     "output_type": "execute_result"
    }
   ],
   "source": [
    "# Load the dataset \n",
    "df = pd.read_csv('Dataset (1).csv')\n",
    "df.head()"
   ]
  },
  {
   "cell_type": "code",
   "execution_count": 3,
   "id": "c8c26c56",
   "metadata": {},
   "outputs": [
    {
     "data": {
      "text/html": [
       "<div>\n",
       "<style scoped>\n",
       "    .dataframe tbody tr th:only-of-type {\n",
       "        vertical-align: middle;\n",
       "    }\n",
       "\n",
       "    .dataframe tbody tr th {\n",
       "        vertical-align: top;\n",
       "    }\n",
       "\n",
       "    .dataframe thead th {\n",
       "        text-align: right;\n",
       "    }\n",
       "</style>\n",
       "<table border=\"1\" class=\"dataframe\">\n",
       "  <thead>\n",
       "    <tr style=\"text-align: right;\">\n",
       "      <th></th>\n",
       "      <th>date</th>\n",
       "      <th>country</th>\n",
       "      <th>new cases</th>\n",
       "      <th>new_deaths</th>\n",
       "      <th>vaccinated</th>\n",
       "    </tr>\n",
       "  </thead>\n",
       "  <tbody>\n",
       "    <tr>\n",
       "      <th>0</th>\n",
       "      <td>2024-11-01</td>\n",
       "      <td>Argentina</td>\n",
       "      <td>NaN</td>\n",
       "      <td>NaN</td>\n",
       "      <td>unknown</td>\n",
       "    </tr>\n",
       "    <tr>\n",
       "      <th>1</th>\n",
       "      <td>2024-11-01</td>\n",
       "      <td>Australia</td>\n",
       "      <td>0.0</td>\n",
       "      <td>0.0</td>\n",
       "      <td>327</td>\n",
       "    </tr>\n",
       "    <tr>\n",
       "      <th>2</th>\n",
       "      <td>2024-11-01</td>\n",
       "      <td>Australia</td>\n",
       "      <td>0.0</td>\n",
       "      <td>0.0</td>\n",
       "      <td>327</td>\n",
       "    </tr>\n",
       "    <tr>\n",
       "      <th>3</th>\n",
       "      <td>2024-11-01</td>\n",
       "      <td>Brazil</td>\n",
       "      <td>971.0</td>\n",
       "      <td>48.0</td>\n",
       "      <td>430</td>\n",
       "    </tr>\n",
       "    <tr>\n",
       "      <th>4</th>\n",
       "      <td>2024-11-01</td>\n",
       "      <td>Canada</td>\n",
       "      <td>176.0</td>\n",
       "      <td>8.0</td>\n",
       "      <td>unknown</td>\n",
       "    </tr>\n",
       "  </tbody>\n",
       "</table>\n",
       "</div>"
      ],
      "text/plain": [
       "         date    country  new cases  new_deaths vaccinated\n",
       "0  2024-11-01  Argentina        NaN         NaN    unknown\n",
       "1  2024-11-01  Australia        0.0         0.0        327\n",
       "2  2024-11-01  Australia        0.0         0.0        327\n",
       "3  2024-11-01     Brazil      971.0        48.0        430\n",
       "4  2024-11-01     Canada      176.0         8.0    unknown"
      ]
     },
     "execution_count": 3,
     "metadata": {},
     "output_type": "execute_result"
    }
   ],
   "source": [
    "# reshape the columns \n",
    "df.columns = df.columns.str.lower().str.removeprefix(\" \").str.removesuffix(\" \")\n",
    "df.head()"
   ]
  },
  {
   "cell_type": "markdown",
   "id": "bf9c79f2",
   "metadata": {},
   "source": [
    "### Step 2: Data Cleaning "
   ]
  },
  {
   "cell_type": "code",
   "execution_count": 4,
   "id": "cb57ce9a",
   "metadata": {},
   "outputs": [],
   "source": [
    "# convert date to datetime\n",
    "df['date'] = pd.to_datetime(df['date'], errors = 'coerce')\n",
    "\n",
    "# clean vaccinated columns\n",
    "df['vaccinated'] = df['vaccinated'].str.replace(',', '') \n",
    "\n",
    "# clean country names\n",
    "df['country'] = df['country'].str.strip().str.title()\n",
    "\n",
    "# drop rows with invalid dates\n",
    "df = df.dropna(subset=['date']) "
   ]
  },
  {
   "cell_type": "code",
   "execution_count": 5,
   "id": "6f0e9859",
   "metadata": {},
   "outputs": [
    {
     "data": {
      "text/plain": [
       "date           0\n",
       "country        0\n",
       "new cases     10\n",
       "new_deaths    24\n",
       "vaccinated     0\n",
       "dtype: int64"
      ]
     },
     "execution_count": 5,
     "metadata": {},
     "output_type": "execute_result"
    }
   ],
   "source": [
    "# Handle missing values\n",
    "df.isna().sum()\n",
    "#for col in ['new cases', 'new_deaths']:\n"
   ]
  },
  {
   "cell_type": "code",
   "execution_count": 6,
   "id": "3e209453",
   "metadata": {},
   "outputs": [],
   "source": [
    "for col in ['new cases', 'new_deaths']:\n",
    "    \n",
    "    df[col] = df[col].fillna(0)\n",
    "    \n",
    "df['vaccinated'] =  df.groupby('country')['vaccinated'].ffill()"
   ]
  },
  {
   "cell_type": "code",
   "execution_count": 7,
   "id": "35b53bed",
   "metadata": {},
   "outputs": [
    {
     "data": {
      "text/plain": [
       "date          0\n",
       "country       0\n",
       "new cases     0\n",
       "new_deaths    0\n",
       "vaccinated    0\n",
       "dtype: int64"
      ]
     },
     "execution_count": 7,
     "metadata": {},
     "output_type": "execute_result"
    }
   ],
   "source": [
    "df.isna().sum()"
   ]
  },
  {
   "cell_type": "code",
   "execution_count": 8,
   "id": "d178dfed",
   "metadata": {},
   "outputs": [],
   "source": [
    "# remove duplicate values \n",
    "df = df.groupby(['date', 'country']).agg({\n",
    "    'new cases': 'sum',\n",
    "    'new_deaths': 'sum',\n",
    "    'vaccinated': 'max'\n",
    "    }\n",
    ").reset_index()"
   ]
  },
  {
   "cell_type": "code",
   "execution_count": 9,
   "id": "465e6713",
   "metadata": {},
   "outputs": [],
   "source": [
    "# remove negative values \n",
    "df['new cases'] = df['new cases'].apply(lambda x: max(x, 0))\n",
    "df['new_deaths'] = df['new_deaths'].apply(lambda x: max(x, 0))"
   ]
  },
  {
   "cell_type": "code",
   "execution_count": 10,
   "id": "77d531fe",
   "metadata": {},
   "outputs": [
    {
     "data": {
      "text/html": [
       "<div>\n",
       "<style scoped>\n",
       "    .dataframe tbody tr th:only-of-type {\n",
       "        vertical-align: middle;\n",
       "    }\n",
       "\n",
       "    .dataframe tbody tr th {\n",
       "        vertical-align: top;\n",
       "    }\n",
       "\n",
       "    .dataframe thead th {\n",
       "        text-align: right;\n",
       "    }\n",
       "</style>\n",
       "<table border=\"1\" class=\"dataframe\">\n",
       "  <thead>\n",
       "    <tr style=\"text-align: right;\">\n",
       "      <th></th>\n",
       "      <th>date</th>\n",
       "      <th>country</th>\n",
       "      <th>new cases</th>\n",
       "      <th>new_deaths</th>\n",
       "      <th>vaccinated</th>\n",
       "    </tr>\n",
       "  </thead>\n",
       "  <tbody>\n",
       "    <tr>\n",
       "      <th>0</th>\n",
       "      <td>2024-11-01</td>\n",
       "      <td>Argentina</td>\n",
       "      <td>0.0</td>\n",
       "      <td>0.0</td>\n",
       "      <td>unknown</td>\n",
       "    </tr>\n",
       "    <tr>\n",
       "      <th>1</th>\n",
       "      <td>2024-11-01</td>\n",
       "      <td>Australia</td>\n",
       "      <td>0.0</td>\n",
       "      <td>0.0</td>\n",
       "      <td>327</td>\n",
       "    </tr>\n",
       "    <tr>\n",
       "      <th>2</th>\n",
       "      <td>2024-11-01</td>\n",
       "      <td>Brazil</td>\n",
       "      <td>971.0</td>\n",
       "      <td>48.0</td>\n",
       "      <td>430</td>\n",
       "    </tr>\n",
       "    <tr>\n",
       "      <th>3</th>\n",
       "      <td>2024-11-01</td>\n",
       "      <td>Canada</td>\n",
       "      <td>176.0</td>\n",
       "      <td>8.0</td>\n",
       "      <td>unknown</td>\n",
       "    </tr>\n",
       "    <tr>\n",
       "      <th>4</th>\n",
       "      <td>2024-11-01</td>\n",
       "      <td>China</td>\n",
       "      <td>1034.0</td>\n",
       "      <td>51.0</td>\n",
       "      <td>462</td>\n",
       "    </tr>\n",
       "  </tbody>\n",
       "</table>\n",
       "</div>"
      ],
      "text/plain": [
       "        date    country  new cases  new_deaths vaccinated\n",
       "0 2024-11-01  Argentina        0.0         0.0    unknown\n",
       "1 2024-11-01  Australia        0.0         0.0        327\n",
       "2 2024-11-01     Brazil      971.0        48.0        430\n",
       "3 2024-11-01     Canada      176.0         8.0    unknown\n",
       "4 2024-11-01      China     1034.0        51.0        462"
      ]
     },
     "execution_count": 10,
     "metadata": {},
     "output_type": "execute_result"
    }
   ],
   "source": [
    "df.head()"
   ]
  },
  {
   "cell_type": "code",
   "execution_count": 11,
   "id": "466463c2",
   "metadata": {},
   "outputs": [
    {
     "name": "stdout",
     "output_type": "stream",
     "text": [
      "<class 'pandas.core.frame.DataFrame'>\n",
      "RangeIndex: 137 entries, 0 to 136\n",
      "Data columns (total 5 columns):\n",
      " #   Column      Non-Null Count  Dtype         \n",
      "---  ------      --------------  -----         \n",
      " 0   date        137 non-null    datetime64[ns]\n",
      " 1   country     137 non-null    object        \n",
      " 2   new cases   137 non-null    float64       \n",
      " 3   new_deaths  137 non-null    float64       \n",
      " 4   vaccinated  137 non-null    object        \n",
      "dtypes: datetime64[ns](1), float64(2), object(2)\n",
      "memory usage: 5.5+ KB\n"
     ]
    }
   ],
   "source": [
    "df.info()"
   ]
  },
  {
   "cell_type": "markdown",
   "id": "9964bc5e",
   "metadata": {},
   "source": [
    "### Step 3: Exploratory Data Analysis "
   ]
  },
  {
   "cell_type": "code",
   "execution_count": 60,
   "id": "2a609a08",
   "metadata": {},
   "outputs": [],
   "source": [
    "# Global trends over time\n",
    "global_daily = df.groupby('date').agg({\n",
    "    'new cases': 'sum',\n",
    "    'new_deaths': 'sum',\n",
    "    'vaccinated': 'max'\n",
    "}).reset_index()\n",
    "\n",
    "# check for  cumulative totals\n",
    "global_daily['Cumulative Cases'] = global_daily['new cases'].cumsum()\n",
    "global_daily['Cumulative Deaths'] = global_daily['new_deaths'].cumsum()"
   ]
  },
  {
   "cell_type": "code",
   "execution_count": 61,
   "id": "8597634f",
   "metadata": {},
   "outputs": [],
   "source": [
    "# Country level Analysis \n",
    "country_totals = df.groupby('country').agg({\n",
    "    'new cases': 'sum',\n",
    "    'new_deaths': 'sum',\n",
    "    'vaccinated': 'max'\n",
    "}).reset_index()\n",
    "\n",
    "# check for fatality rate (deaths per 100 cases)\n",
    "country_totals['Fatality Rate (%)'] = (country_totals['new_deaths']/country_totals['new cases']) * 100"
   ]
  },
  {
   "cell_type": "code",
   "execution_count": 18,
   "id": "3a85a4df",
   "metadata": {},
   "outputs": [
    {
     "data": {
      "text/html": [
       "<div>\n",
       "<style scoped>\n",
       "    .dataframe tbody tr th:only-of-type {\n",
       "        vertical-align: middle;\n",
       "    }\n",
       "\n",
       "    .dataframe tbody tr th {\n",
       "        vertical-align: top;\n",
       "    }\n",
       "\n",
       "    .dataframe thead th {\n",
       "        text-align: right;\n",
       "    }\n",
       "</style>\n",
       "<table border=\"1\" class=\"dataframe\">\n",
       "  <thead>\n",
       "    <tr style=\"text-align: right;\">\n",
       "      <th></th>\n",
       "      <th>date</th>\n",
       "      <th>new cases</th>\n",
       "      <th>new_deaths</th>\n",
       "      <th>vaccinated</th>\n",
       "      <th>Cumulative Cases</th>\n",
       "      <th>Cumulative Deaths</th>\n",
       "    </tr>\n",
       "  </thead>\n",
       "  <tbody>\n",
       "    <tr>\n",
       "      <th>0</th>\n",
       "      <td>2024-11-01</td>\n",
       "      <td>2181.0</td>\n",
       "      <td>107.0</td>\n",
       "      <td>unknown</td>\n",
       "      <td>2181.0</td>\n",
       "      <td>107.0</td>\n",
       "    </tr>\n",
       "    <tr>\n",
       "      <th>1</th>\n",
       "      <td>2024-11-02</td>\n",
       "      <td>1199.0</td>\n",
       "      <td>58.0</td>\n",
       "      <td>61</td>\n",
       "      <td>3380.0</td>\n",
       "      <td>165.0</td>\n",
       "    </tr>\n",
       "    <tr>\n",
       "      <th>2</th>\n",
       "      <td>2024-11-03</td>\n",
       "      <td>1798.0</td>\n",
       "      <td>56.0</td>\n",
       "      <td>474</td>\n",
       "      <td>5178.0</td>\n",
       "      <td>221.0</td>\n",
       "    </tr>\n",
       "    <tr>\n",
       "      <th>3</th>\n",
       "      <td>2024-11-04</td>\n",
       "      <td>3262.0</td>\n",
       "      <td>160.0</td>\n",
       "      <td>unknown</td>\n",
       "      <td>8440.0</td>\n",
       "      <td>381.0</td>\n",
       "    </tr>\n",
       "    <tr>\n",
       "      <th>4</th>\n",
       "      <td>2024-11-05</td>\n",
       "      <td>1833.0</td>\n",
       "      <td>76.0</td>\n",
       "      <td>450</td>\n",
       "      <td>10273.0</td>\n",
       "      <td>457.0</td>\n",
       "    </tr>\n",
       "    <tr>\n",
       "      <th>5</th>\n",
       "      <td>2024-11-06</td>\n",
       "      <td>1373.0</td>\n",
       "      <td>59.0</td>\n",
       "      <td>421</td>\n",
       "      <td>11646.0</td>\n",
       "      <td>516.0</td>\n",
       "    </tr>\n",
       "    <tr>\n",
       "      <th>6</th>\n",
       "      <td>2024-11-07</td>\n",
       "      <td>1419.0</td>\n",
       "      <td>70.0</td>\n",
       "      <td>75</td>\n",
       "      <td>13065.0</td>\n",
       "      <td>586.0</td>\n",
       "    </tr>\n",
       "    <tr>\n",
       "      <th>7</th>\n",
       "      <td>2024-11-08</td>\n",
       "      <td>2351.0</td>\n",
       "      <td>105.0</td>\n",
       "      <td>unknown</td>\n",
       "      <td>15416.0</td>\n",
       "      <td>691.0</td>\n",
       "    </tr>\n",
       "    <tr>\n",
       "      <th>8</th>\n",
       "      <td>2024-11-09</td>\n",
       "      <td>2735.0</td>\n",
       "      <td>134.0</td>\n",
       "      <td>57</td>\n",
       "      <td>18151.0</td>\n",
       "      <td>825.0</td>\n",
       "    </tr>\n",
       "    <tr>\n",
       "      <th>9</th>\n",
       "      <td>2024-11-10</td>\n",
       "      <td>1125.0</td>\n",
       "      <td>54.0</td>\n",
       "      <td>unknown</td>\n",
       "      <td>19276.0</td>\n",
       "      <td>879.0</td>\n",
       "    </tr>\n",
       "    <tr>\n",
       "      <th>10</th>\n",
       "      <td>2024-11-11</td>\n",
       "      <td>629.0</td>\n",
       "      <td>31.0</td>\n",
       "      <td>493</td>\n",
       "      <td>19905.0</td>\n",
       "      <td>910.0</td>\n",
       "    </tr>\n",
       "    <tr>\n",
       "      <th>11</th>\n",
       "      <td>2024-11-12</td>\n",
       "      <td>1555.0</td>\n",
       "      <td>37.0</td>\n",
       "      <td>70</td>\n",
       "      <td>21460.0</td>\n",
       "      <td>947.0</td>\n",
       "    </tr>\n",
       "    <tr>\n",
       "      <th>12</th>\n",
       "      <td>2024-11-13</td>\n",
       "      <td>2616.0</td>\n",
       "      <td>90.0</td>\n",
       "      <td>451</td>\n",
       "      <td>24076.0</td>\n",
       "      <td>1037.0</td>\n",
       "    </tr>\n",
       "    <tr>\n",
       "      <th>13</th>\n",
       "      <td>2024-11-14</td>\n",
       "      <td>3916.0</td>\n",
       "      <td>194.0</td>\n",
       "      <td>481</td>\n",
       "      <td>27992.0</td>\n",
       "      <td>1231.0</td>\n",
       "    </tr>\n",
       "    <tr>\n",
       "      <th>14</th>\n",
       "      <td>2024-11-15</td>\n",
       "      <td>2560.0</td>\n",
       "      <td>126.0</td>\n",
       "      <td>unknown</td>\n",
       "      <td>30552.0</td>\n",
       "      <td>1357.0</td>\n",
       "    </tr>\n",
       "    <tr>\n",
       "      <th>15</th>\n",
       "      <td>2024-11-16</td>\n",
       "      <td>2065.0</td>\n",
       "      <td>102.0</td>\n",
       "      <td>45</td>\n",
       "      <td>32617.0</td>\n",
       "      <td>1459.0</td>\n",
       "    </tr>\n",
       "    <tr>\n",
       "      <th>16</th>\n",
       "      <td>2024-11-17</td>\n",
       "      <td>2711.0</td>\n",
       "      <td>57.0</td>\n",
       "      <td>397</td>\n",
       "      <td>35328.0</td>\n",
       "      <td>1516.0</td>\n",
       "    </tr>\n",
       "    <tr>\n",
       "      <th>17</th>\n",
       "      <td>2024-11-18</td>\n",
       "      <td>1541.0</td>\n",
       "      <td>30.0</td>\n",
       "      <td>458</td>\n",
       "      <td>36869.0</td>\n",
       "      <td>1546.0</td>\n",
       "    </tr>\n",
       "    <tr>\n",
       "      <th>18</th>\n",
       "      <td>2024-11-19</td>\n",
       "      <td>1760.0</td>\n",
       "      <td>86.0</td>\n",
       "      <td>480</td>\n",
       "      <td>38629.0</td>\n",
       "      <td>1632.0</td>\n",
       "    </tr>\n",
       "    <tr>\n",
       "      <th>19</th>\n",
       "      <td>2024-11-20</td>\n",
       "      <td>3217.0</td>\n",
       "      <td>153.0</td>\n",
       "      <td>unknown</td>\n",
       "      <td>41846.0</td>\n",
       "      <td>1785.0</td>\n",
       "    </tr>\n",
       "    <tr>\n",
       "      <th>20</th>\n",
       "      <td>2024-11-21</td>\n",
       "      <td>2716.0</td>\n",
       "      <td>134.0</td>\n",
       "      <td>499</td>\n",
       "      <td>44562.0</td>\n",
       "      <td>1919.0</td>\n",
       "    </tr>\n",
       "    <tr>\n",
       "      <th>21</th>\n",
       "      <td>2024-11-22</td>\n",
       "      <td>3618.0</td>\n",
       "      <td>135.0</td>\n",
       "      <td>397</td>\n",
       "      <td>48180.0</td>\n",
       "      <td>2054.0</td>\n",
       "    </tr>\n",
       "    <tr>\n",
       "      <th>22</th>\n",
       "      <td>2024-11-23</td>\n",
       "      <td>3107.0</td>\n",
       "      <td>153.0</td>\n",
       "      <td>427</td>\n",
       "      <td>51287.0</td>\n",
       "      <td>2207.0</td>\n",
       "    </tr>\n",
       "    <tr>\n",
       "      <th>23</th>\n",
       "      <td>2024-11-24</td>\n",
       "      <td>2700.0</td>\n",
       "      <td>103.0</td>\n",
       "      <td>498</td>\n",
       "      <td>53987.0</td>\n",
       "      <td>2310.0</td>\n",
       "    </tr>\n",
       "    <tr>\n",
       "      <th>24</th>\n",
       "      <td>2024-11-25</td>\n",
       "      <td>2561.0</td>\n",
       "      <td>126.0</td>\n",
       "      <td>unknown</td>\n",
       "      <td>56548.0</td>\n",
       "      <td>2436.0</td>\n",
       "    </tr>\n",
       "    <tr>\n",
       "      <th>25</th>\n",
       "      <td>2024-11-26</td>\n",
       "      <td>4277.0</td>\n",
       "      <td>212.0</td>\n",
       "      <td>70</td>\n",
       "      <td>60825.0</td>\n",
       "      <td>2648.0</td>\n",
       "    </tr>\n",
       "    <tr>\n",
       "      <th>26</th>\n",
       "      <td>2024-11-27</td>\n",
       "      <td>2750.0</td>\n",
       "      <td>136.0</td>\n",
       "      <td>499</td>\n",
       "      <td>63575.0</td>\n",
       "      <td>2784.0</td>\n",
       "    </tr>\n",
       "    <tr>\n",
       "      <th>27</th>\n",
       "      <td>2024-11-28</td>\n",
       "      <td>4704.0</td>\n",
       "      <td>194.0</td>\n",
       "      <td>483</td>\n",
       "      <td>68279.0</td>\n",
       "      <td>2978.0</td>\n",
       "    </tr>\n",
       "    <tr>\n",
       "      <th>28</th>\n",
       "      <td>2024-11-29</td>\n",
       "      <td>3378.0</td>\n",
       "      <td>168.0</td>\n",
       "      <td>62</td>\n",
       "      <td>71657.0</td>\n",
       "      <td>3146.0</td>\n",
       "    </tr>\n",
       "    <tr>\n",
       "      <th>29</th>\n",
       "      <td>2024-11-30</td>\n",
       "      <td>5872.0</td>\n",
       "      <td>290.0</td>\n",
       "      <td>unknown</td>\n",
       "      <td>77529.0</td>\n",
       "      <td>3436.0</td>\n",
       "    </tr>\n",
       "  </tbody>\n",
       "</table>\n",
       "</div>"
      ],
      "text/plain": [
       "         date  new cases  new_deaths vaccinated  Cumulative Cases  \\\n",
       "0  2024-11-01     2181.0       107.0    unknown            2181.0   \n",
       "1  2024-11-02     1199.0        58.0         61            3380.0   \n",
       "2  2024-11-03     1798.0        56.0        474            5178.0   \n",
       "3  2024-11-04     3262.0       160.0    unknown            8440.0   \n",
       "4  2024-11-05     1833.0        76.0        450           10273.0   \n",
       "5  2024-11-06     1373.0        59.0        421           11646.0   \n",
       "6  2024-11-07     1419.0        70.0         75           13065.0   \n",
       "7  2024-11-08     2351.0       105.0    unknown           15416.0   \n",
       "8  2024-11-09     2735.0       134.0         57           18151.0   \n",
       "9  2024-11-10     1125.0        54.0    unknown           19276.0   \n",
       "10 2024-11-11      629.0        31.0        493           19905.0   \n",
       "11 2024-11-12     1555.0        37.0         70           21460.0   \n",
       "12 2024-11-13     2616.0        90.0        451           24076.0   \n",
       "13 2024-11-14     3916.0       194.0        481           27992.0   \n",
       "14 2024-11-15     2560.0       126.0    unknown           30552.0   \n",
       "15 2024-11-16     2065.0       102.0         45           32617.0   \n",
       "16 2024-11-17     2711.0        57.0        397           35328.0   \n",
       "17 2024-11-18     1541.0        30.0        458           36869.0   \n",
       "18 2024-11-19     1760.0        86.0        480           38629.0   \n",
       "19 2024-11-20     3217.0       153.0    unknown           41846.0   \n",
       "20 2024-11-21     2716.0       134.0        499           44562.0   \n",
       "21 2024-11-22     3618.0       135.0        397           48180.0   \n",
       "22 2024-11-23     3107.0       153.0        427           51287.0   \n",
       "23 2024-11-24     2700.0       103.0        498           53987.0   \n",
       "24 2024-11-25     2561.0       126.0    unknown           56548.0   \n",
       "25 2024-11-26     4277.0       212.0         70           60825.0   \n",
       "26 2024-11-27     2750.0       136.0        499           63575.0   \n",
       "27 2024-11-28     4704.0       194.0        483           68279.0   \n",
       "28 2024-11-29     3378.0       168.0         62           71657.0   \n",
       "29 2024-11-30     5872.0       290.0    unknown           77529.0   \n",
       "\n",
       "    Cumulative Deaths  \n",
       "0               107.0  \n",
       "1               165.0  \n",
       "2               221.0  \n",
       "3               381.0  \n",
       "4               457.0  \n",
       "5               516.0  \n",
       "6               586.0  \n",
       "7               691.0  \n",
       "8               825.0  \n",
       "9               879.0  \n",
       "10              910.0  \n",
       "11              947.0  \n",
       "12             1037.0  \n",
       "13             1231.0  \n",
       "14             1357.0  \n",
       "15             1459.0  \n",
       "16             1516.0  \n",
       "17             1546.0  \n",
       "18             1632.0  \n",
       "19             1785.0  \n",
       "20             1919.0  \n",
       "21             2054.0  \n",
       "22             2207.0  \n",
       "23             2310.0  \n",
       "24             2436.0  \n",
       "25             2648.0  \n",
       "26             2784.0  \n",
       "27             2978.0  \n",
       "28             3146.0  \n",
       "29             3436.0  "
      ]
     },
     "execution_count": 18,
     "metadata": {},
     "output_type": "execute_result"
    }
   ],
   "source": [
    "global_daily"
   ]
  },
  {
   "cell_type": "code",
   "execution_count": 24,
   "id": "6f7b3b6f",
   "metadata": {},
   "outputs": [
    {
     "data": {
      "text/html": [
       "<div>\n",
       "<style scoped>\n",
       "    .dataframe tbody tr th:only-of-type {\n",
       "        vertical-align: middle;\n",
       "    }\n",
       "\n",
       "    .dataframe tbody tr th {\n",
       "        vertical-align: top;\n",
       "    }\n",
       "\n",
       "    .dataframe thead th {\n",
       "        text-align: right;\n",
       "    }\n",
       "</style>\n",
       "<table border=\"1\" class=\"dataframe\">\n",
       "  <thead>\n",
       "    <tr style=\"text-align: right;\">\n",
       "      <th></th>\n",
       "      <th>country</th>\n",
       "      <th>new cases</th>\n",
       "      <th>new_deaths</th>\n",
       "      <th>vaccinated</th>\n",
       "      <th>Fatality Rate (%)</th>\n",
       "    </tr>\n",
       "  </thead>\n",
       "  <tbody>\n",
       "    <tr>\n",
       "      <th>0</th>\n",
       "      <td>Argentina</td>\n",
       "      <td>21796.0</td>\n",
       "      <td>942.0</td>\n",
       "      <td>451.0</td>\n",
       "      <td>4.321894</td>\n",
       "    </tr>\n",
       "    <tr>\n",
       "      <th>1</th>\n",
       "      <td>Australia</td>\n",
       "      <td>18151.0</td>\n",
       "      <td>776.0</td>\n",
       "      <td>499.0</td>\n",
       "      <td>4.275247</td>\n",
       "    </tr>\n",
       "    <tr>\n",
       "      <th>2</th>\n",
       "      <td>Brazil</td>\n",
       "      <td>13286.0</td>\n",
       "      <td>606.0</td>\n",
       "      <td>498.0</td>\n",
       "      <td>4.561192</td>\n",
       "    </tr>\n",
       "    <tr>\n",
       "      <th>3</th>\n",
       "      <td>Canada</td>\n",
       "      <td>11510.0</td>\n",
       "      <td>489.0</td>\n",
       "      <td>499.0</td>\n",
       "      <td>4.248480</td>\n",
       "    </tr>\n",
       "    <tr>\n",
       "      <th>4</th>\n",
       "      <td>China</td>\n",
       "      <td>12786.0</td>\n",
       "      <td>623.0</td>\n",
       "      <td>493.0</td>\n",
       "      <td>4.872517</td>\n",
       "    </tr>\n",
       "  </tbody>\n",
       "</table>\n",
       "</div>"
      ],
      "text/plain": [
       "     country  new cases  new_deaths  vaccinated  Fatality Rate (%)\n",
       "0  Argentina    21796.0       942.0       451.0           4.321894\n",
       "1  Australia    18151.0       776.0       499.0           4.275247\n",
       "2     Brazil    13286.0       606.0       498.0           4.561192\n",
       "3     Canada    11510.0       489.0       499.0           4.248480\n",
       "4      China    12786.0       623.0       493.0           4.872517"
      ]
     },
     "execution_count": 24,
     "metadata": {},
     "output_type": "execute_result"
    }
   ],
   "source": [
    "country_totals"
   ]
  },
  {
   "cell_type": "code",
   "execution_count": 20,
   "id": "957730bf",
   "metadata": {},
   "outputs": [
    {
     "name": "stdout",
     "output_type": "stream",
     "text": [
      "['unknown' '327' '430' '462' '195' '336' '173' '369' '61' '425' '474' '47'\n",
      " '320' '383' '440' '137' '493' '41' '450' '346' '359' '418' '401' '2'\n",
      " '421' '75' '339' '121' '115' '486' '313' '484' '276' '174' '358' '57'\n",
      " '476' '252' '142' '18' '171' '454' '285' '471' '70' '433' '182' '404'\n",
      " '448' '451' '436' '102' '344' '107' '11' '328' '481' '382' '301' '295'\n",
      " '314' '45' '397' '37' '206' '458' '457' '385' '138' '260' '480' '168'\n",
      " '352' '169' '120' '332' '499' '187' '465' '349' '309' '278' '422' '131'\n",
      " '427' '30' '33' '356' '498' '319' '375' '353' '377' '266' '175' '496'\n",
      " '444' '233' '17' '347' '134' '483' '190' '220' '491' '62' '490' '428'\n",
      " '438']\n"
     ]
    }
   ],
   "source": [
    "print(df['vaccinated'].unique())"
   ]
  },
  {
   "cell_type": "code",
   "execution_count": 22,
   "id": "7cce1e49",
   "metadata": {},
   "outputs": [],
   "source": [
    "# replace the unknown and convert to numeric \n",
    "df['vaccinated'] =(\n",
    "    df['vaccinated'].replace(['unknown','NAN'], np.nan).astype(str).str.replace(',', '')\n",
    "    .pipe(pd.to_numeric, errors='coerce')\n",
    ") "
   ]
  },
  {
   "cell_type": "code",
   "execution_count": 23,
   "id": "ea92d8e6",
   "metadata": {},
   "outputs": [],
   "source": [
    "# Country level Analysis \n",
    "country_totals = df.groupby('country').agg({\n",
    "    'new cases': 'sum',\n",
    "    'new_deaths': 'sum',\n",
    "    'vaccinated': 'max'\n",
    "}).reset_index()\n",
    "\n",
    "# check for fatality rate (deaths per 100 cases)\n",
    "country_totals['Fatality Rate (%)'] = (country_totals['new_deaths']/country_totals['new cases']) * 100"
   ]
  },
  {
   "cell_type": "markdown",
   "id": "6af1d244",
   "metadata": {},
   "source": [
    "#### Step 4: Visualization "
   ]
  },
  {
   "cell_type": "code",
   "execution_count": 14,
   "id": "6d1a97d4",
   "metadata": {},
   "outputs": [
    {
     "data": {
      "image/png": "[encoded data removed]",
      "text/plain": [
       "<Figure size 2000x600 with 1 Axes>"
      ]
     },
     "metadata": {},
     "output_type": "display_data"
    }
   ],
   "source": [
    "# 1. Global Daily Cases and Deaths\n",
    "plt.figure(figsize=(20, 6))\n",
    "plt.plot(global_daily['date'], global_daily['new cases'], label = 'New Cases', color = 'blue', alpha=0.7)\n",
    "plt.plot(global_daily['date'], global_daily['new_deaths'], label = 'New Deaths', color = 'red', alpha=0.7)\n",
    "plt.title('Global Daily COVID-19 Cases and Deaths')\n",
    "plt.xlabel('Date')\n",
    "plt.ylabel('Count')\n",
    "plt.legend()\n",
    "plt.grid(True)\n",
    "plt.show()"
   ]
  },
  {
   "cell_type": "markdown",
   "id": "ef9d865b",
   "metadata": {},
   "source": [
    "#### It is show from the graph:\n",
    "   1. The new cases achieved High peak value during December 2024 and Low Peak Value during November\n",
    "   2. As a result of this, high mortality rates is recorded on December than other months."
   ]
  },
  {
   "cell_type": "code",
   "execution_count": 15,
   "id": "96f4a4c5",
   "metadata": {},
   "outputs": [
    {
     "name": "stderr",
     "output_type": "stream",
     "text": [
      "C:\\Users\\USER\\AppData\\Local\\Temp\\ipykernel_15276\\2541449971.py:4: FutureWarning: \n",
      "\n",
      "Passing `palette` without assigning `hue` is deprecated and will be removed in v0.14.0. Assign the `y` variable to `hue` and set `legend=False` for the same effect.\n",
      "\n",
      "  sns.barplot(x='new cases', y='country', data=top_countries, palette='viridis')\n"
     ]
    },
    {
     "data": {
      "image/png": "[encoded data removed]",
      "text/plain": [
       "<Figure size 1400x600 with 1 Axes>"
      ]
     },
     "metadata": {},
     "output_type": "display_data"
    }
   ],
   "source": [
    "# 2. Top 10 countries by total cases \n",
    "top_countries = country_totals.sort_values('new cases', ascending = False).head(10)\n",
    "plt.figure(figsize=(14,6))\n",
    "sns.barplot(x='new cases', y='country', data=top_countries, palette='viridis')\n",
    "plt.title('Top 10 Countries by Total COVID-19 Cases')\n",
    "plt.xlabel('Total Cases')\n",
    "plt.ylabel('Country')\n",
    "plt.show()"
   ]
  },
  {
   "cell_type": "markdown",
   "id": "9c2c181f",
   "metadata": {},
   "source": [
    "### Here, \n",
    "   1. Argentina has the highest Covid-19 Cases and Canada has the least of tenth most recorded cases of covid-19"
   ]
  },
  {
   "cell_type": "code",
   "execution_count": 25,
   "id": "690d9c1c",
   "metadata": {},
   "outputs": [
    {
     "data": {
      "image/png": "[encoded data removed]",
      "text/plain": [
       "<Figure size 1400x600 with 1 Axes>"
      ]
     },
     "metadata": {},
     "output_type": "display_data"
    }
   ],
   "source": [
    "# 3. Vaccination against Fatality Rate\n",
    "plt.figure(figsize=(14, 6))\n",
    "sns.scatterplot(x='vaccinated', y='Fatality Rate (%)', data = country_totals, hue='country', legend=False)\n",
    "plt.title('Vaccination Coverage against Fatality Rate (%) by Country')\n",
    "plt.xlabel('Vaccinated Individuals')\n",
    "plt.ylabel('Fatality Rate (%)')\n",
    "plt.show() "
   ]
  },
  {
   "cell_type": "code",
   "execution_count": 62,
   "id": "f8adc2e8",
   "metadata": {},
   "outputs": [
    {
     "data": {
      "image/png": "[encoded data removed]",
      "text/plain": [
       "<Figure size 1600x600 with 1 Axes>"
      ]
     },
     "metadata": {},
     "output_type": "display_data"
    }
   ],
   "source": [
    "# Cumulative Cases and Deaths Over Time\n",
    "plt.figure(figsize=(16,6))\n",
    "plt.fill_between(global_daily['date'], global_daily['Cumulative Cases'], label='Cumulative Cases',  color='blue', alpha=0.3)\n",
    "plt.fill_between(global_daily['date'], global_daily['Cumulative Deaths'], label='Cumulative Deaths',  color='red', alpha=0.3)\n",
    "plt.title('Global Cumulative COVID-19 Cases and Deaths') \n",
    "plt.xlabel('date') \n",
    "plt.ylabel('Cumulative Count') \n",
    "plt.legend()\n",
    "plt.show()"
   ]
  },
  {
   "cell_type": "markdown",
   "id": "c49b1509",
   "metadata": {},
   "source": [
    "#### Step 5: Key Insights\n"
   ]
  },
  {
   "cell_type": "code",
   "execution_count": 38,
   "id": "87a76033",
   "metadata": {},
   "outputs": [],
   "source": [
    "# Global trends over time\n",
    "global_daily = df.groupby('date').agg({\n",
    "    'new cases': 'sum',\n",
    "    'new_deaths': 'sum'\n",
    "}).reset_index() "
   ]
  },
  {
   "cell_type": "code",
   "execution_count": 57,
   "id": "e8fb8fa3",
   "metadata": {},
   "outputs": [
    {
     "name": "stdout",
     "output_type": "stream",
     "text": [
      "Peak daily cases occurred on: 29\n",
      "peak daily deaths occurred on: 29\n"
     ]
    }
   ],
   "source": [
    "peak_cases_date = global_daily['new cases'].idxmax()\n",
    "peak_deaths_date = global_daily['new_deaths'].idxmax()\n",
    "\n",
    "print(f\"Peak daily cases occurred on: {peak_cases_date}\") \n",
    "print(f\"peak daily deaths occurred on: {peak_deaths_date}\")"
   ]
  },
  {
   "cell_type": "code",
   "execution_count": 33,
   "id": "778881b1",
   "metadata": {},
   "outputs": [
    {
     "name": "stdout",
     "output_type": "stream",
     "text": [
      "Average daily cases pre-vaccine: 2181\n",
      "Average daily cases post-vaccine: 2598\n"
     ]
    }
   ],
   "source": [
    "# 2. Vaccination Impact:\n",
    "vaccine_start_date = df['date'].min()\n",
    "post_vaccine = global_daily[global_daily['date'] > vaccine_start_date]\n",
    "pre_vaccine = global_daily[global_daily['date'] <= vaccine_start_date]\n",
    "\n",
    "print(f\"Average daily cases pre-vaccine: {pre_vaccine['new cases'].mean():.0f}\")\n",
    "print(f\"Average daily cases post-vaccine: {post_vaccine['new cases'].mean():.0f}\") "
   ]
  },
  {
   "cell_type": "code",
   "execution_count": 36,
   "id": "dd173045",
   "metadata": {},
   "outputs": [
    {
     "name": "stdout",
     "output_type": "stream",
     "text": [
      "Countries with highest fatality rates:\n",
      "      country  Fatality Rate (%)\n",
      "4      China           4.872517\n",
      "2     Brazil           4.561192\n",
      "0  Argentina           4.321894\n",
      "1  Australia           4.275247\n",
      "3     Canada           4.248480\n",
      "\n",
      "Countries with lowest fatality rates:\n",
      "      country  Fatality Rate (%)\n",
      "3     Canada           4.248480\n",
      "1  Australia           4.275247\n",
      "0  Argentina           4.321894\n",
      "2     Brazil           4.561192\n",
      "4      China           4.872517\n"
     ]
    }
   ],
   "source": [
    "# 3. Country Comparison:\n",
    "high_fatality = country_totals.nlargest(5, 'Fatality Rate (%)')\n",
    "low_fatality = country_totals.nsmallest(5, 'Fatality Rate (%)')\n",
    "print(\"Countries with highest fatality rates:\\n\", high_fatality[['country', 'Fatality Rate (%)']]) \n",
    "print(\"\\nCountries with lowest fatality rates:\\n\", low_fatality[['country', 'Fatality Rate (%)']]) "
   ]
  },
  {
   "cell_type": "code",
   "execution_count": null,
   "id": "9a99275c",
   "metadata": {},
   "outputs": [],
   "source": []
  }
 ],
 "metadata": {
  "kernelspec": {
   "display_name": "Python 3",
   "language": "python",
   "name": "python3"
  },
  "language_info": {
   "codemirror_mode": {
    "name": "ipython",
    "version": 3
   },
   "file_extension": ".py",
   "mimetype": "text/x-python",
   "name": "python",
   "nbconvert_exporter": "python",
   "pygments_lexer": "ipython3",
   "version": "3.11.1"
  }
 },
 "nbformat": 4,
 "nbformat_minor": 5
}
